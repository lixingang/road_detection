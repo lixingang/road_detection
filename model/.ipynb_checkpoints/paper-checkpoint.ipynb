{
 "cells": [
  {
   "cell_type": "code",
   "execution_count": 16,
   "metadata": {},
   "outputs": [],
   "source": [
    "import cv2\n",
    "import os\n",
    "import glob\n",
    "import random\n",
    "import numpy as np"
   ]
  },
  {
   "cell_type": "code",
   "execution_count": 17,
   "metadata": {},
   "outputs": [],
   "source": [
    "city='vegas'\n",
    "img_dir = '/home/lxg/data/road/spacenet/%s/images_rgb/'%city"
   ]
  },
  {
   "cell_type": "code",
   "execution_count": 18,
   "metadata": {},
   "outputs": [],
   "source": [
    "def imread(img_path):\n",
    "    im = cv2.imread(img_path)\n",
    "    im = cv2.cvtColor(im, cv2.COLOR_BGR2RGB)\n",
    "    return im\n",
    "def grid(img_dir, col=1, row=1):\n",
    "    ll =  glob.glob(os.path.join(img_dir,'*.tif'))\n",
    "    print(random.sample(ll,col*row))\n",
    "    \n",
    "    batch_img = np.zeros((col*row, ))\n",
    "    for p in ll:\n",
    "        im = imread(p)"
   ]
  },
  {
   "cell_type": "code",
   "execution_count": 19,
   "metadata": {},
   "outputs": [
    {
     "name": "stdout",
     "output_type": "stream",
     "text": [
      "['/home/lxg/data/road/spacenet/vegas/images_rgb/RGB-PanSharpen_AOI_2_Vegas_img494.tif', '/home/lxg/data/road/spacenet/vegas/images_rgb/RGB-PanSharpen_AOI_2_Vegas_img1302.tif', '/home/lxg/data/road/spacenet/vegas/images_rgb/RGB-PanSharpen_AOI_2_Vegas_img936.tif', '/home/lxg/data/road/spacenet/vegas/images_rgb/RGB-PanSharpen_AOI_2_Vegas_img1237.tif', '/home/lxg/data/road/spacenet/vegas/images_rgb/RGB-PanSharpen_AOI_2_Vegas_img1583.tif', '/home/lxg/data/road/spacenet/vegas/images_rgb/RGB-PanSharpen_AOI_2_Vegas_img853.tif', '/home/lxg/data/road/spacenet/vegas/images_rgb/RGB-PanSharpen_AOI_2_Vegas_img431.tif', '/home/lxg/data/road/spacenet/vegas/images_rgb/RGB-PanSharpen_AOI_2_Vegas_img1600.tif', '/home/lxg/data/road/spacenet/vegas/images_rgb/RGB-PanSharpen_AOI_2_Vegas_img115.tif', '/home/lxg/data/road/spacenet/vegas/images_rgb/RGB-PanSharpen_AOI_2_Vegas_img258.tif', '/home/lxg/data/road/spacenet/vegas/images_rgb/RGB-PanSharpen_AOI_2_Vegas_img1224.tif', '/home/lxg/data/road/spacenet/vegas/images_rgb/RGB-PanSharpen_AOI_2_Vegas_img944.tif']\n"
     ]
    }
   ],
   "source": [
    "grid(img_dir)"
   ]
  },
  {
   "cell_type": "code",
   "execution_count": null,
   "metadata": {},
   "outputs": [],
   "source": []
  }
 ],
 "metadata": {
  "kernelspec": {
   "display_name": "Python 3",
   "language": "python",
   "name": "python3"
  },
  "language_info": {
   "codemirror_mode": {
    "name": "ipython",
    "version": 3
   },
   "file_extension": ".py",
   "mimetype": "text/x-python",
   "name": "python",
   "nbconvert_exporter": "python",
   "pygments_lexer": "ipython3",
   "version": "3.6.9"
  }
 },
 "nbformat": 4,
 "nbformat_minor": 4
}
