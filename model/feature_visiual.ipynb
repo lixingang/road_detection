{
 "cells": [
  {
   "cell_type": "code",
   "execution_count": null,
   "metadata": {},
   "outputs": [],
   "source": [
    "import numpy as np\n",
    "from keras.models import load_model\n",
    "from keras import backend as K\n",
    "from keras.models import Model\n",
    "import matplotlib.pyplot as plt\n",
    "import cv2\n",
    "from segmentation_models import Unet\n",
    "from segmentation_models.backbones import get_preprocessing\n",
    "import os\n",
    "import yaml\n",
    "import matplotlib.pyplot as plt\n",
    "os.environ[\"CUDA_VISIBLE_DEVICES\"] = \"2\"\n",
    "from utils import *"
   ]
  },
  {
   "cell_type": "code",
   "execution_count": null,
   "metadata": {},
   "outputs": [],
   "source": [
    "def Visual_feature(fea, num=4):\n",
    "    #input:(512,512,64)\n",
    "    dimension = fea.shape[-1]\n",
    "    if dimension>=16:\n",
    "        num=4\n",
    "    elif dimension<16 and dimension>=9:\n",
    "        num=3\n",
    "    elif dimension<9:\n",
    "        num=2\n",
    "    plt.figure(figsize=(32,32))\n",
    "    index = 1\n",
    "    for i in range(1,num+1):\n",
    "        for j in range(1,num+1):\n",
    "            plt.subplot(num,num,index)\n",
    "            index+=1\n",
    "            w = fea.shape[-2]\n",
    "            img = fea[:,:,index].reshape([w,w,1])\n",
    "            img = np.concatenate((img,img,img),axis=-1)\n",
    "            plt.imshow(img)\n",
    "def Visual_image(img,isgray=True):\n",
    "    plt.figure(figsize=(8, 8))\n",
    "    if isgray:\n",
    "        img = np.concatenate((img,img,img),axis=-1)\n",
    "        plt.imshow(img, cmap='gray')\n",
    "    else:\n",
    "        plt.imshow(img)"
   ]
  },
  {
   "cell_type": "code",
   "execution_count": null,
   "metadata": {},
   "outputs": [],
   "source": [
    "with open(\"config.yaml\") as pfile:\n",
    "    cfgs = yaml.load(pfile)\n",
    "dl = DataLoader(cfgs)\n",
    "# 'stage4_unit1_relu1', 'stage3_unit1_relu1', 'stage2_unit1_relu1', 'relu0'\n",
    "model = Unet(backbone_name='resnet50', encoder_weights='imagenet')\n",
    "model.compile('Adam', 'binary_crossentropy', ['binary_accuracy'])\n",
    "model.load_weights(os.path.join(cfgs[\"SAVE_DIR\"],\"weights\",\"epoch295.h5\"))\n",
    "print(\"RETORE SUCCESSFULLY!\")\n",
    "test_images, test_ulabels,_,_,_= dl.get_test_data()\n",
    "#results = model.predict(test_images, batch_size=10, verbose=1)"
   ]
  },
  {
   "cell_type": "code",
   "execution_count": null,
   "metadata": {},
   "outputs": [],
   "source": [
    "layer_model = Model(inputs=model.input,\n",
    "                         outputs=model.get_layer('fuse_dir').output)\n",
    "layer_result = layer_model.predict(test_images, batch_size=10, verbose=1)\n",
    "print(layer_result.shape)"
   ]
  },
  {
   "cell_type": "code",
   "execution_count": null,
   "metadata": {},
   "outputs": [],
   "source": [
    "\n",
    "Visual_image(layer_result[5])\n",
    "# Visual_feature(layer_result[0])"
   ]
  },
  {
   "cell_type": "code",
   "execution_count": null,
   "metadata": {},
   "outputs": [],
   "source": []
  }
 ],
 "metadata": {
  "kernelspec": {
   "display_name": "Python 3",
   "language": "python",
   "name": "python3"
  },
  "language_info": {
   "codemirror_mode": {
    "name": "ipython",
    "version": 3
   },
   "file_extension": ".py",
   "mimetype": "text/x-python",
   "name": "python",
   "nbconvert_exporter": "python",
   "pygments_lexer": "ipython3",
   "version": "3.6.9"
  }
 },
 "nbformat": 4,
 "nbformat_minor": 4
}
